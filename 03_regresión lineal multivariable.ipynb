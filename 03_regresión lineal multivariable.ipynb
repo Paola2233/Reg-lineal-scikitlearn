{
 "cells": [
  {
   "cell_type": "markdown",
   "source": "# Regresión lineal multivariable\n\nHasta ahora hemos trabajado en casos donde se analiza una sola variable independiente. Ahora, cuando se trabaja con múltiples variables se tiene lo siguiente:\n\n$$ \\hat{y}=w_0+w_1*x_1+...+w_n*x_n$$\n\nA continuación, se presenta un ejemplo empleando el mismo dataset del primer notebook.\n\n## Importando datos",
   "metadata": {
    "cell_id": "19ea0d5ea5d6445ca8bf31e58d0d25a0",
    "tags": [],
    "deepnote_cell_type": "markdown",
    "deepnote_cell_height": 350.3125
   }
  },
  {
   "cell_type": "code",
   "metadata": {
    "tags": [],
    "cell_id": "0a9afb6b-af16-4e98-9457-3daac263c47b",
    "deepnote_to_be_reexecuted": false,
    "source_hash": "dfb3288a",
    "execution_start": 1650743336581,
    "execution_millis": 630,
    "deepnote_cell_type": "code",
    "deepnote_cell_height": 507.796875
   },
   "source": "import pandas as pd\ndf = pd.read_csv('https://archive.ics.uci.edu/ml/machine-learning-databases/housing/housing.data',\n            header=None, sep='\\s+')\ndf.columns = ['CRIM', 'ZN', 'INDUS', 'CHAS', 'NOX', 'RM', 'AGE', 'DIS', 'RAD', 'TAX', 'PTRATIO', 'B', 'LSTAT', 'MEDV']\ndf.head()",
   "execution_count": null,
   "outputs": [
    {
     "output_type": "execute_result",
     "execution_count": 1,
     "data": {
      "application/vnd.deepnote.dataframe.v3+json": {
       "column_count": 14,
       "row_count": 5,
       "columns": [
        {
         "name": "CRIM",
         "dtype": "float64",
         "stats": {
          "unique_count": 5,
          "nan_count": 0,
          "min": "0.00632",
          "max": "0.06905",
          "histogram": [
           {
            "bin_start": 0.00632,
            "bin_end": 0.012593,
            "count": 1
           },
           {
            "bin_start": 0.012593,
            "bin_end": 0.018865999999999997,
            "count": 0
           },
           {
            "bin_start": 0.018865999999999997,
            "bin_end": 0.025138999999999995,
            "count": 0
           },
           {
            "bin_start": 0.025138999999999995,
            "bin_end": 0.031411999999999995,
            "count": 2
           },
           {
            "bin_start": 0.031411999999999995,
            "bin_end": 0.037684999999999996,
            "count": 1
           },
           {
            "bin_start": 0.037684999999999996,
            "bin_end": 0.04395799999999999,
            "count": 0
           },
           {
            "bin_start": 0.04395799999999999,
            "bin_end": 0.05023099999999999,
            "count": 0
           },
           {
            "bin_start": 0.05023099999999999,
            "bin_end": 0.05650399999999999,
            "count": 0
           },
           {
            "bin_start": 0.05650399999999999,
            "bin_end": 0.062777,
            "count": 0
           },
           {
            "bin_start": 0.062777,
            "bin_end": 0.06905,
            "count": 1
           }
          ]
         }
        },
        {
         "name": "ZN",
         "dtype": "float64",
         "stats": {
          "unique_count": 2,
          "nan_count": 0,
          "min": "0.0",
          "max": "18.0",
          "histogram": [
           {
            "bin_start": 0,
            "bin_end": 1.8,
            "count": 4
           },
           {
            "bin_start": 1.8,
            "bin_end": 3.6,
            "count": 0
           },
           {
            "bin_start": 3.6,
            "bin_end": 5.4,
            "count": 0
           },
           {
            "bin_start": 5.4,
            "bin_end": 7.2,
            "count": 0
           },
           {
            "bin_start": 7.2,
            "bin_end": 9,
            "count": 0
           },
           {
            "bin_start": 9,
            "bin_end": 10.8,
            "count": 0
           },
           {
            "bin_start": 10.8,
            "bin_end": 12.6,
            "count": 0
           },
           {
            "bin_start": 12.6,
            "bin_end": 14.4,
            "count": 0
           },
           {
            "bin_start": 14.4,
            "bin_end": 16.2,
            "count": 0
           },
           {
            "bin_start": 16.2,
            "bin_end": 18,
            "count": 1
           }
          ]
         }
        },
        {
         "name": "INDUS",
         "dtype": "float64",
         "stats": {
          "unique_count": 3,
          "nan_count": 0,
          "min": "2.18",
          "max": "7.07",
          "histogram": [
           {
            "bin_start": 2.18,
            "bin_end": 2.669,
            "count": 3
           },
           {
            "bin_start": 2.669,
            "bin_end": 3.1580000000000004,
            "count": 0
           },
           {
            "bin_start": 3.1580000000000004,
            "bin_end": 3.6470000000000002,
            "count": 0
           },
           {
            "bin_start": 3.6470000000000002,
            "bin_end": 4.136,
            "count": 0
           },
           {
            "bin_start": 4.136,
            "bin_end": 4.625,
            "count": 0
           },
           {
            "bin_start": 4.625,
            "bin_end": 5.114000000000001,
            "count": 0
           },
           {
            "bin_start": 5.114000000000001,
            "bin_end": 5.603000000000001,
            "count": 0
           },
           {
            "bin_start": 5.603000000000001,
            "bin_end": 6.0920000000000005,
            "count": 0
           },
           {
            "bin_start": 6.0920000000000005,
            "bin_end": 6.581000000000001,
            "count": 0
           },
           {
            "bin_start": 6.581000000000001,
            "bin_end": 7.07,
            "count": 2
           }
          ]
         }
        },
        {
         "name": "CHAS",
         "dtype": "int64",
         "stats": {
          "unique_count": 1,
          "nan_count": 0,
          "min": "0",
          "max": "0",
          "histogram": [
           {
            "bin_start": -0.5,
            "bin_end": -0.4,
            "count": 0
           },
           {
            "bin_start": -0.4,
            "bin_end": -0.3,
            "count": 0
           },
           {
            "bin_start": -0.3,
            "bin_end": -0.19999999999999996,
            "count": 0
           },
           {
            "bin_start": -0.19999999999999996,
            "bin_end": -0.09999999999999998,
            "count": 0
           },
           {
            "bin_start": -0.09999999999999998,
            "bin_end": 0,
            "count": 0
           },
           {
            "bin_start": 0,
            "bin_end": 0.10000000000000009,
            "count": 5
           },
           {
            "bin_start": 0.10000000000000009,
            "bin_end": 0.20000000000000007,
            "count": 0
           },
           {
            "bin_start": 0.20000000000000007,
            "bin_end": 0.30000000000000004,
            "count": 0
           },
           {
            "bin_start": 0.30000000000000004,
            "bin_end": 0.4,
            "count": 0
           },
           {
            "bin_start": 0.4,
            "bin_end": 0.5,
            "count": 0
           }
          ]
         }
        },
        {
         "name": "NOX",
         "dtype": "float64",
         "stats": {
          "unique_count": 3,
          "nan_count": 0,
          "min": "0.458",
          "max": "0.538",
          "histogram": [
           {
            "bin_start": 0.458,
            "bin_end": 0.466,
            "count": 2
           },
           {
            "bin_start": 0.466,
            "bin_end": 0.47400000000000003,
            "count": 2
           },
           {
            "bin_start": 0.47400000000000003,
            "bin_end": 0.48200000000000004,
            "count": 0
           },
           {
            "bin_start": 0.48200000000000004,
            "bin_end": 0.49000000000000005,
            "count": 0
           },
           {
            "bin_start": 0.49000000000000005,
            "bin_end": 0.498,
            "count": 0
           },
           {
            "bin_start": 0.498,
            "bin_end": 0.506,
            "count": 0
           },
           {
            "bin_start": 0.506,
            "bin_end": 0.514,
            "count": 0
           },
           {
            "bin_start": 0.514,
            "bin_end": 0.522,
            "count": 0
           },
           {
            "bin_start": 0.522,
            "bin_end": 0.53,
            "count": 0
           },
           {
            "bin_start": 0.53,
            "bin_end": 0.538,
            "count": 1
           }
          ]
         }
        },
        {
         "name": "RM",
         "dtype": "float64",
         "stats": {
          "unique_count": 5,
          "nan_count": 0,
          "min": "6.421",
          "max": "7.185",
          "histogram": [
           {
            "bin_start": 6.421,
            "bin_end": 6.4974,
            "count": 1
           },
           {
            "bin_start": 6.4974,
            "bin_end": 6.5738,
            "count": 0
           },
           {
            "bin_start": 6.5738,
            "bin_end": 6.6502,
            "count": 1
           },
           {
            "bin_start": 6.6502,
            "bin_end": 6.7266,
            "count": 0
           },
           {
            "bin_start": 6.7266,
            "bin_end": 6.803,
            "count": 0
           },
           {
            "bin_start": 6.803,
            "bin_end": 6.8793999999999995,
            "count": 0
           },
           {
            "bin_start": 6.8793999999999995,
            "bin_end": 6.9558,
            "count": 0
           },
           {
            "bin_start": 6.9558,
            "bin_end": 7.0322,
            "count": 1
           },
           {
            "bin_start": 7.0322,
            "bin_end": 7.1086,
            "count": 0
           },
           {
            "bin_start": 7.1086,
            "bin_end": 7.185,
            "count": 2
           }
          ]
         }
        },
        {
         "name": "AGE",
         "dtype": "float64",
         "stats": {
          "unique_count": 5,
          "nan_count": 0,
          "min": "45.8",
          "max": "78.9",
          "histogram": [
           {
            "bin_start": 45.8,
            "bin_end": 49.11,
            "count": 1
           },
           {
            "bin_start": 49.11,
            "bin_end": 52.42,
            "count": 0
           },
           {
            "bin_start": 52.42,
            "bin_end": 55.730000000000004,
            "count": 1
           },
           {
            "bin_start": 55.730000000000004,
            "bin_end": 59.04,
            "count": 0
           },
           {
            "bin_start": 59.04,
            "bin_end": 62.35,
            "count": 1
           },
           {
            "bin_start": 62.35,
            "bin_end": 65.66,
            "count": 1
           },
           {
            "bin_start": 65.66,
            "bin_end": 68.97,
            "count": 0
           },
           {
            "bin_start": 68.97,
            "bin_end": 72.28,
            "count": 0
           },
           {
            "bin_start": 72.28,
            "bin_end": 75.59,
            "count": 0
           },
           {
            "bin_start": 75.59,
            "bin_end": 78.9,
            "count": 1
           }
          ]
         }
        },
        {
         "name": "DIS",
         "dtype": "float64",
         "stats": {
          "unique_count": 3,
          "nan_count": 0,
          "min": "4.09",
          "max": "6.0622",
          "histogram": [
           {
            "bin_start": 4.09,
            "bin_end": 4.28722,
            "count": 1
           },
           {
            "bin_start": 4.28722,
            "bin_end": 4.48444,
            "count": 0
           },
           {
            "bin_start": 4.48444,
            "bin_end": 4.68166,
            "count": 0
           },
           {
            "bin_start": 4.68166,
            "bin_end": 4.87888,
            "count": 0
           },
           {
            "bin_start": 4.87888,
            "bin_end": 5.0761,
            "count": 2
           },
           {
            "bin_start": 5.0761,
            "bin_end": 5.27332,
            "count": 0
           },
           {
            "bin_start": 5.27332,
            "bin_end": 5.47054,
            "count": 0
           },
           {
            "bin_start": 5.47054,
            "bin_end": 5.6677599999999995,
            "count": 0
           },
           {
            "bin_start": 5.6677599999999995,
            "bin_end": 5.86498,
            "count": 0
           },
           {
            "bin_start": 5.86498,
            "bin_end": 6.0622,
            "count": 2
           }
          ]
         }
        },
        {
         "name": "RAD",
         "dtype": "int64",
         "stats": {
          "unique_count": 3,
          "nan_count": 0,
          "min": "1",
          "max": "3",
          "histogram": [
           {
            "bin_start": 1,
            "bin_end": 1.2,
            "count": 1
           },
           {
            "bin_start": 1.2,
            "bin_end": 1.4,
            "count": 0
           },
           {
            "bin_start": 1.4,
            "bin_end": 1.6,
            "count": 0
           },
           {
            "bin_start": 1.6,
            "bin_end": 1.8,
            "count": 0
           },
           {
            "bin_start": 1.8,
            "bin_end": 2,
            "count": 0
           },
           {
            "bin_start": 2,
            "bin_end": 2.2,
            "count": 2
           },
           {
            "bin_start": 2.2,
            "bin_end": 2.4000000000000004,
            "count": 0
           },
           {
            "bin_start": 2.4000000000000004,
            "bin_end": 2.6,
            "count": 0
           },
           {
            "bin_start": 2.6,
            "bin_end": 2.8,
            "count": 0
           },
           {
            "bin_start": 2.8,
            "bin_end": 3,
            "count": 2
           }
          ]
         }
        },
        {
         "name": "TAX",
         "dtype": "float64",
         "stats": {
          "unique_count": 3,
          "nan_count": 0,
          "min": "222.0",
          "max": "296.0",
          "histogram": [
           {
            "bin_start": 222,
            "bin_end": 229.4,
            "count": 2
           },
           {
            "bin_start": 229.4,
            "bin_end": 236.8,
            "count": 0
           },
           {
            "bin_start": 236.8,
            "bin_end": 244.2,
            "count": 2
           },
           {
            "bin_start": 244.2,
            "bin_end": 251.6,
            "count": 0
           },
           {
            "bin_start": 251.6,
            "bin_end": 259,
            "count": 0
           },
           {
            "bin_start": 259,
            "bin_end": 266.4,
            "count": 0
           },
           {
            "bin_start": 266.4,
            "bin_end": 273.8,
            "count": 0
           },
           {
            "bin_start": 273.8,
            "bin_end": 281.2,
            "count": 0
           },
           {
            "bin_start": 281.2,
            "bin_end": 288.6,
            "count": 0
           },
           {
            "bin_start": 288.6,
            "bin_end": 296,
            "count": 1
           }
          ]
         }
        },
        {
         "name": "PTRATIO",
         "dtype": "float64",
         "stats": {
          "unique_count": 3,
          "nan_count": 0,
          "min": "15.3",
          "max": "18.7",
          "histogram": [
           {
            "bin_start": 15.3,
            "bin_end": 15.64,
            "count": 1
           },
           {
            "bin_start": 15.64,
            "bin_end": 15.98,
            "count": 0
           },
           {
            "bin_start": 15.98,
            "bin_end": 16.32,
            "count": 0
           },
           {
            "bin_start": 16.32,
            "bin_end": 16.66,
            "count": 0
           },
           {
            "bin_start": 16.66,
            "bin_end": 17,
            "count": 0
           },
           {
            "bin_start": 17,
            "bin_end": 17.34,
            "count": 0
           },
           {
            "bin_start": 17.34,
            "bin_end": 17.68,
            "count": 0
           },
           {
            "bin_start": 17.68,
            "bin_end": 18.02,
            "count": 2
           },
           {
            "bin_start": 18.02,
            "bin_end": 18.36,
            "count": 0
           },
           {
            "bin_start": 18.36,
            "bin_end": 18.7,
            "count": 2
           }
          ]
         }
        },
        {
         "name": "B",
         "dtype": "float64",
         "stats": {
          "unique_count": 3,
          "nan_count": 0,
          "min": "392.83",
          "max": "396.9",
          "histogram": [
           {
            "bin_start": 392.83,
            "bin_end": 393.23699999999997,
            "count": 1
           },
           {
            "bin_start": 393.23699999999997,
            "bin_end": 393.644,
            "count": 0
           },
           {
            "bin_start": 393.644,
            "bin_end": 394.051,
            "count": 0
           },
           {
            "bin_start": 394.051,
            "bin_end": 394.45799999999997,
            "count": 0
           },
           {
            "bin_start": 394.45799999999997,
            "bin_end": 394.865,
            "count": 1
           },
           {
            "bin_start": 394.865,
            "bin_end": 395.272,
            "count": 0
           },
           {
            "bin_start": 395.272,
            "bin_end": 395.679,
            "count": 0
           },
           {
            "bin_start": 395.679,
            "bin_end": 396.08599999999996,
            "count": 0
           },
           {
            "bin_start": 396.08599999999996,
            "bin_end": 396.493,
            "count": 0
           },
           {
            "bin_start": 396.493,
            "bin_end": 396.9,
            "count": 3
           }
          ]
         }
        },
        {
         "name": "LSTAT",
         "dtype": "float64",
         "stats": {
          "unique_count": 5,
          "nan_count": 0,
          "min": "2.94",
          "max": "9.14",
          "histogram": [
           {
            "bin_start": 2.94,
            "bin_end": 3.56,
            "count": 1
           },
           {
            "bin_start": 3.56,
            "bin_end": 4.18,
            "count": 1
           },
           {
            "bin_start": 4.18,
            "bin_end": 4.800000000000001,
            "count": 0
           },
           {
            "bin_start": 4.800000000000001,
            "bin_end": 5.42,
            "count": 2
           },
           {
            "bin_start": 5.42,
            "bin_end": 6.040000000000001,
            "count": 0
           },
           {
            "bin_start": 6.040000000000001,
            "bin_end": 6.66,
            "count": 0
           },
           {
            "bin_start": 6.66,
            "bin_end": 7.280000000000001,
            "count": 0
           },
           {
            "bin_start": 7.280000000000001,
            "bin_end": 7.9,
            "count": 0
           },
           {
            "bin_start": 7.9,
            "bin_end": 8.520000000000001,
            "count": 0
           },
           {
            "bin_start": 8.520000000000001,
            "bin_end": 9.14,
            "count": 1
           }
          ]
         }
        },
        {
         "name": "MEDV",
         "dtype": "float64",
         "stats": {
          "unique_count": 5,
          "nan_count": 0,
          "min": "21.6",
          "max": "36.2",
          "histogram": [
           {
            "bin_start": 21.6,
            "bin_end": 23.060000000000002,
            "count": 1
           },
           {
            "bin_start": 23.060000000000002,
            "bin_end": 24.520000000000003,
            "count": 1
           },
           {
            "bin_start": 24.520000000000003,
            "bin_end": 25.980000000000004,
            "count": 0
           },
           {
            "bin_start": 25.980000000000004,
            "bin_end": 27.44,
            "count": 0
           },
           {
            "bin_start": 27.44,
            "bin_end": 28.900000000000002,
            "count": 0
           },
           {
            "bin_start": 28.900000000000002,
            "bin_end": 30.360000000000003,
            "count": 0
           },
           {
            "bin_start": 30.360000000000003,
            "bin_end": 31.82,
            "count": 0
           },
           {
            "bin_start": 31.82,
            "bin_end": 33.28,
            "count": 0
           },
           {
            "bin_start": 33.28,
            "bin_end": 34.74,
            "count": 2
           },
           {
            "bin_start": 34.74,
            "bin_end": 36.2,
            "count": 1
           }
          ]
         }
        },
        {
         "name": "_deepnote_index_column",
         "dtype": "int64"
        }
       ],
       "rows": [
        {
         "CRIM": 0.00632,
         "ZN": 18,
         "INDUS": 2.31,
         "CHAS": 0,
         "NOX": 0.538,
         "RM": 6.575,
         "AGE": 65.2,
         "DIS": 4.09,
         "RAD": 1,
         "TAX": 296,
         "PTRATIO": 15.3,
         "B": 396.9,
         "LSTAT": 4.98,
         "MEDV": 24,
         "_deepnote_index_column": 0
        },
        {
         "CRIM": 0.02731,
         "ZN": 0,
         "INDUS": 7.07,
         "CHAS": 0,
         "NOX": 0.469,
         "RM": 6.421,
         "AGE": 78.9,
         "DIS": 4.9671,
         "RAD": 2,
         "TAX": 242,
         "PTRATIO": 17.8,
         "B": 396.9,
         "LSTAT": 9.14,
         "MEDV": 21.6,
         "_deepnote_index_column": 1
        },
        {
         "CRIM": 0.02729,
         "ZN": 0,
         "INDUS": 7.07,
         "CHAS": 0,
         "NOX": 0.469,
         "RM": 7.185,
         "AGE": 61.1,
         "DIS": 4.9671,
         "RAD": 2,
         "TAX": 242,
         "PTRATIO": 17.8,
         "B": 392.83,
         "LSTAT": 4.03,
         "MEDV": 34.7,
         "_deepnote_index_column": 2
        },
        {
         "CRIM": 0.03237,
         "ZN": 0,
         "INDUS": 2.18,
         "CHAS": 0,
         "NOX": 0.458,
         "RM": 6.998,
         "AGE": 45.8,
         "DIS": 6.0622,
         "RAD": 3,
         "TAX": 222,
         "PTRATIO": 18.7,
         "B": 394.63,
         "LSTAT": 2.94,
         "MEDV": 33.4,
         "_deepnote_index_column": 3
        },
        {
         "CRIM": 0.06905,
         "ZN": 0,
         "INDUS": 2.18,
         "CHAS": 0,
         "NOX": 0.458,
         "RM": 7.147,
         "AGE": 54.2,
         "DIS": 6.0622,
         "RAD": 3,
         "TAX": 222,
         "PTRATIO": 18.7,
         "B": 396.9,
         "LSTAT": 5.33,
         "MEDV": 36.2,
         "_deepnote_index_column": 4
        }
       ]
      },
      "text/plain": "      CRIM    ZN  INDUS  CHAS    NOX     RM   AGE     DIS  RAD    TAX  \\\n0  0.00632  18.0   2.31     0  0.538  6.575  65.2  4.0900    1  296.0   \n1  0.02731   0.0   7.07     0  0.469  6.421  78.9  4.9671    2  242.0   \n2  0.02729   0.0   7.07     0  0.469  7.185  61.1  4.9671    2  242.0   \n3  0.03237   0.0   2.18     0  0.458  6.998  45.8  6.0622    3  222.0   \n4  0.06905   0.0   2.18     0  0.458  7.147  54.2  6.0622    3  222.0   \n\n   PTRATIO       B  LSTAT  MEDV  \n0     15.3  396.90   4.98  24.0  \n1     17.8  396.90   9.14  21.6  \n2     17.8  392.83   4.03  34.7  \n3     18.7  394.63   2.94  33.4  \n4     18.7  396.90   5.33  36.2  ",
      "text/html": "<div>\n<style scoped>\n    .dataframe tbody tr th:only-of-type {\n        vertical-align: middle;\n    }\n\n    .dataframe tbody tr th {\n        vertical-align: top;\n    }\n\n    .dataframe thead th {\n        text-align: right;\n    }\n</style>\n<table border=\"1\" class=\"dataframe\">\n  <thead>\n    <tr style=\"text-align: right;\">\n      <th></th>\n      <th>CRIM</th>\n      <th>ZN</th>\n      <th>INDUS</th>\n      <th>CHAS</th>\n      <th>NOX</th>\n      <th>RM</th>\n      <th>AGE</th>\n      <th>DIS</th>\n      <th>RAD</th>\n      <th>TAX</th>\n      <th>PTRATIO</th>\n      <th>B</th>\n      <th>LSTAT</th>\n      <th>MEDV</th>\n    </tr>\n  </thead>\n  <tbody>\n    <tr>\n      <th>0</th>\n      <td>0.00632</td>\n      <td>18.0</td>\n      <td>2.31</td>\n      <td>0</td>\n      <td>0.538</td>\n      <td>6.575</td>\n      <td>65.2</td>\n      <td>4.0900</td>\n      <td>1</td>\n      <td>296.0</td>\n      <td>15.3</td>\n      <td>396.90</td>\n      <td>4.98</td>\n      <td>24.0</td>\n    </tr>\n    <tr>\n      <th>1</th>\n      <td>0.02731</td>\n      <td>0.0</td>\n      <td>7.07</td>\n      <td>0</td>\n      <td>0.469</td>\n      <td>6.421</td>\n      <td>78.9</td>\n      <td>4.9671</td>\n      <td>2</td>\n      <td>242.0</td>\n      <td>17.8</td>\n      <td>396.90</td>\n      <td>9.14</td>\n      <td>21.6</td>\n    </tr>\n    <tr>\n      <th>2</th>\n      <td>0.02729</td>\n      <td>0.0</td>\n      <td>7.07</td>\n      <td>0</td>\n      <td>0.469</td>\n      <td>7.185</td>\n      <td>61.1</td>\n      <td>4.9671</td>\n      <td>2</td>\n      <td>242.0</td>\n      <td>17.8</td>\n      <td>392.83</td>\n      <td>4.03</td>\n      <td>34.7</td>\n    </tr>\n    <tr>\n      <th>3</th>\n      <td>0.03237</td>\n      <td>0.0</td>\n      <td>2.18</td>\n      <td>0</td>\n      <td>0.458</td>\n      <td>6.998</td>\n      <td>45.8</td>\n      <td>6.0622</td>\n      <td>3</td>\n      <td>222.0</td>\n      <td>18.7</td>\n      <td>394.63</td>\n      <td>2.94</td>\n      <td>33.4</td>\n    </tr>\n    <tr>\n      <th>4</th>\n      <td>0.06905</td>\n      <td>0.0</td>\n      <td>2.18</td>\n      <td>0</td>\n      <td>0.458</td>\n      <td>7.147</td>\n      <td>54.2</td>\n      <td>6.0622</td>\n      <td>3</td>\n      <td>222.0</td>\n      <td>18.7</td>\n      <td>396.90</td>\n      <td>5.33</td>\n      <td>36.2</td>\n    </tr>\n  </tbody>\n</table>\n</div>"
     },
     "metadata": {}
    }
   ]
  },
  {
   "cell_type": "markdown",
   "source": "De la matriz de correlación (notebook 01), se puede ver que las dos variables que tienen una mayor correlación con el valor promedio de las casas (MEDV) son el número promedio de habitaciones (RM) y la proporción de acres comerciales no minoristas por ciudad (INDUS).\n\nDel código para crear el modelo, simplemente se agrega la columna INDUS a nuestra variable independiente.",
   "metadata": {
    "cell_id": "8dd93c97ee43442b98736b02be1653b1",
    "tags": [],
    "deepnote_cell_type": "markdown",
    "deepnote_cell_height": 268
   }
  },
  {
   "cell_type": "code",
   "metadata": {
    "cell_id": "c737ab0c01db4532b0fb23a0ba173a1a",
    "tags": [],
    "deepnote_to_be_reexecuted": false,
    "source_hash": "8629ac71",
    "execution_start": 1650743337212,
    "execution_millis": 746,
    "deepnote_cell_type": "code",
    "deepnote_cell_height": 316.1875,
    "deepnote_output_heights": [
     21.1875
    ]
   },
   "source": "from sklearn.preprocessing import StandardScaler\nfrom sklearn.linear_model import LinearRegression\n\nX = df[['RM', 'INDUS']].values  # Se agregó columna INDUS\ny = df['MEDV'].values.reshape(-1, 1)\nsc_x = StandardScaler()\nsc_y = StandardScaler()\nX_std = sc_x.fit_transform(X)\ny_std = sc_y.fit_transform(y)\n\nslr = LinearRegression()\nslr.fit(X_std, y_std)",
   "execution_count": null,
   "outputs": [
    {
     "output_type": "execute_result",
     "execution_count": 2,
     "data": {
      "text/plain": "LinearRegression()"
     },
     "metadata": {}
    }
   ]
  },
  {
   "cell_type": "markdown",
   "source": "_*En la regresion lineal múltiple hay que considerar que las variables independientes que agregue al modelo no se encuentren altamente correlacionada eso puede implicar en problemas de multicolinealidad_\n\n# Análisis de regresión multivariable",
   "metadata": {
    "cell_id": "0d0f109dcfe94cd5aa92a42f1b0dc425",
    "tags": [],
    "deepnote_cell_type": "markdown",
    "deepnote_cell_height": 218.390625
   }
  },
  {
   "cell_type": "code",
   "metadata": {
    "cell_id": "7b2c3c6bca5a4ab885c1b1a768793978",
    "tags": [],
    "deepnote_to_be_reexecuted": false,
    "source_hash": "75e3cc8",
    "execution_start": 1650743337964,
    "execution_millis": 1145,
    "deepnote_cell_type": "code",
    "deepnote_cell_height": 798.796875,
    "deepnote_output_heights": [
     null,
     233
    ]
   },
   "source": "import matplotlib.pyplot as plt\nfrom mpl_toolkits.mplot3d import *\nimport numpy as np \n\nx1_range = np.arange(df['RM'].min(),df['RM'].max())\nx2_range = np.arange(df['INDUS'].min(),df['INDUS'].max())\n\n## Puntos del plano\nX1, X2 = np.meshgrid(x1_range,x2_range)\n\n## Creando el plano\nplano = pd.DataFrame({'RM':X1.ravel(), 'INDUS':X2.ravel()})\npred = slr.predict(plano).reshape(X1.shape)\npred = sc_y.inverse_transform(pred)\n\nfig = plt.figure()\nax = fig.gca(projection='3d')\nax.plot_surface(X1,X2,pred, alpha=0.4)\n\nax.scatter3D(df['RM'], df['INDUS'], df['MEDV'], color='red', marker='.')\nax.view_init(elev=10, azim=5)\nplt.show()",
   "execution_count": null,
   "outputs": [
    {
     "name": "stderr",
     "text": "/shared-libs/python3.7/py/lib/python3.7/site-packages/sklearn/base.py:444: UserWarning: X has feature names, but LinearRegression was fitted without feature names\n  f\"X has feature names, but {self.__class__.__name__} was fitted without\"\n/shared-libs/python3.7/py-core/lib/python3.7/site-packages/ipykernel_launcher.py:17: MatplotlibDeprecationWarning: Calling gca() with keyword arguments was deprecated in Matplotlib 3.4. Starting two minor releases later, gca() will take no keyword arguments. The gca() function should only be used to get the current axes, or if no axes exist, create new axes with default keyword arguments. To create a new axes with non-default arguments, use plt.axes() or plt.subplot().\n",
     "output_type": "stream"
    },
    {
     "data": {
      "text/plain": "<Figure size 432x288 with 1 Axes>",
      "image/png": "[encoded data removed]"
     },
     "metadata": {
      "needs_background": "light",
      "image/png": {
       "width": 231,
       "height": 231
      }
     },
     "output_type": "display_data"
    }
   ]
  },
  {
   "cell_type": "code",
   "metadata": {
    "cell_id": "5fd815d700864753a791c922fa5f50a1",
    "tags": [],
    "deepnote_to_be_reexecuted": false,
    "source_hash": "f607d88b",
    "execution_start": 1650744309284,
    "execution_millis": 4,
    "owner_user_id": "bc33c0a1-8048-44d5-b0e9-3d851b1fa595",
    "deepnote_cell_type": "code",
    "deepnote_cell_height": 314.796875
   },
   "source": "rooms = 5\nindus =3\n\nv1 = sc_x.transform(np.array([rooms,indus]).reshape(1,-1))\n\nprecio = sc_y.inverse_transform(slr.predict(v1))\n#precio2 = slr.predict(v1)\n\nprint(f\"El precio promedio de una casa con 5 habitaciones y 3 indus en Boston es de {round(float(precio),2)} miles de USD)\")\n\n## Siguiente print solo como referencia\n#print(f\"El precio promedio ESTANDARIZADO es: {float(precio2)} miles de dolares\")",
   "execution_count": null,
   "outputs": [
    {
     "name": "stdout",
     "text": "El precio promedio de una casa con 5 habitaciones y 3 indus en Boston es de 15.21 miles de USD)\n",
     "output_type": "stream"
    }
   ]
  },
  {
   "cell_type": "code",
   "metadata": {
    "cell_id": "d11c822e76e94bd2ac587821aa86d4c2",
    "tags": [],
    "deepnote_cell_type": "code",
    "deepnote_cell_height": 66
   },
   "source": "",
   "execution_count": null,
   "outputs": []
  },
  {
   "cell_type": "markdown",
   "source": "<a style='text-decoration:none;line-height:16px;display:flex;color:#5B5B62;padding:10px;justify-content:end;' href='https://deepnote.com?utm_source=created-in-deepnote-cell&projectId=8b8beb45-6e9e-4db8-96c9-28634efc9b59' target=\"_blank\">\n<img alt='Created in deepnote.com' style='display:inline;max-height:16px;margin:0px;margin-right:7.5px;' src='data:image/svg+xml;base64,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' > </img>\nCreated in <span style='font-weight:600;margin-left:4px;'>Deepnote</span></a>",
   "metadata": {
    "tags": [],
    "created_in_deepnote_cell": true,
    "deepnote_cell_type": "markdown"
   }
  }
 ],
 "nbformat": 4,
 "nbformat_minor": 2,
 "metadata": {
  "orig_nbformat": 2,
  "deepnote": {},
  "deepnote_notebook_id": "c57f87e9-3e1c-4d46-bb0e-5de89cf56c61",
  "deepnote_execution_queue": []
 }
}